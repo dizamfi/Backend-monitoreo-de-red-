{
 "cells": [
  {
   "cell_type": "markdown",
   "metadata": {},
   "source": [
    "Regression QoS Metrics"
   ]
  },
  {
   "cell_type": "code",
   "execution_count": null,
   "metadata": {},
   "outputs": [],
   "source": [
    "#import warnings\n",
    "#warnings.filterwarnings(\"ignore\")\n",
    "from ml_utils import *"
   ]
  },
  {
   "cell_type": "code",
   "execution_count": null,
   "metadata": {},
   "outputs": [],
   "source": [
    "dft = pd.read_csv(\"ML/monitoreo_red.monitoreo_red.qualityofservices.csv\")\n",
    "cols = [\"_id/$oid\",\"date\",\"hour\",\"mac\",\"rssi\",\"noise\",\"SNR\",\"RX\",\"RX_Pkts\",\"TX\",\"TX_Pkts\",\"__v\"]\n",
    "\n",
    "dtf = dtf[[\"_id/$oid\"]+cols+[\"QoSMetrics\"]]\n",
    "dtf.head()"
   ]
  }
 ],
 "metadata": {
  "language_info": {
   "name": "python"
  },
  "orig_nbformat": 4
 },
 "nbformat": 4,
 "nbformat_minor": 2
}
